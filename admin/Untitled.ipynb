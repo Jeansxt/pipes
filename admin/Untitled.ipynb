{
 "cells": [
  {
   "cell_type": "code",
   "execution_count": 1,
   "metadata": {},
   "outputs": [
    {
     "name": "stdout",
     "output_type": "stream",
     "text": [
      "Collecting sqllite3\n",
      "Note: you may need to restart the kernel to use updated packages.\n"
     ]
    },
    {
     "name": "stderr",
     "output_type": "stream",
     "text": [
      "  ERROR: Could not find a version that satisfies the requirement sqllite3 (from versions: none)\n",
      "ERROR: No matching distribution found for sqllite3\n"
     ]
    }
   ],
   "source": [
    "pip install sqllite3\n"
   ]
  },
  {
   "cell_type": "code",
   "execution_count": 2,
   "metadata": {},
   "outputs": [
    {
     "data": {
      "text/plain": [
       "<sqlite3.Connection at 0x27773c361f0>"
      ]
     },
     "execution_count": 2,
     "metadata": {},
     "output_type": "execute_result"
    }
   ],
   "source": [
    "import sqlite3\n",
    "\n",
    "sqlite3.connect(\"./pipes_backend.db\")"
   ]
  },
  {
   "cell_type": "code",
   "execution_count": 6,
   "metadata": {},
   "outputs": [
    {
     "data": {
      "text/plain": [
       "<sqlite3.Cursor at 0x2071ded6420>"
      ]
     },
     "execution_count": 6,
     "metadata": {},
     "output_type": "execute_result"
    }
   ],
   "source": [
    "query = \"\"\"DROP TABLE post;\"\"\"\n",
    "cursor.execute(query)\n"
   ]
  },
  {
   "cell_type": "code",
   "execution_count": 7,
   "metadata": {
    "scrolled": true
   },
   "outputs": [],
   "source": [
    "import pandas as pd\n",
    "import numpy as np\n",
    "from sqlalchemy import create_engine\n",
    "import sqlite3\n",
    "sqlite3.connect(\"./sample_db.sqlite\")\n",
    "frame = pd.DataFrame(pd.read_excel(\"db_test.xlsx\"),\n",
    "                     columns=['id','hash_code', 'publish_time', 'unit', 'title', 'provinces','cities','doc_type','url','score','resume','keywords','content','is_checked','text'])\n",
    "engine= create_engine('sqlite:///sample_db.sqlite')\n",
    "frame.to_sql('post', engine)\n",
    "# sqlite3.close()\n"
   ]
  },
  {
   "cell_type": "code",
   "execution_count": 8,
   "metadata": {},
   "outputs": [
    {
     "name": "stdout",
     "output_type": "stream",
     "text": [
      "Requirement already satisfied: flask_ckeditor in d:\\anaconda\\ana\\lib\\site-packages (0.4.3)\n",
      "Requirement already satisfied: Flask in d:\\anaconda\\ana\\lib\\site-packages (from flask_ckeditor) (1.1.1)\n",
      "Requirement already satisfied: Jinja2>=2.10.1 in d:\\anaconda\\ana\\lib\\site-packages (from Flask->flask_ckeditor) (2.10.1)\n",
      "Requirement already satisfied: Werkzeug>=0.15 in d:\\anaconda\\ana\\lib\\site-packages (from Flask->flask_ckeditor) (0.15.4)\n",
      "Requirement already satisfied: click>=5.1 in d:\\anaconda\\ana\\lib\\site-packages (from Flask->flask_ckeditor) (7.0)\n",
      "Requirement already satisfied: itsdangerous>=0.24 in d:\\anaconda\\ana\\lib\\site-packages (from Flask->flask_ckeditor) (1.1.0)\n",
      "Requirement already satisfied: MarkupSafe>=0.23 in d:\\anaconda\\ana\\lib\\site-packages (from Jinja2>=2.10.1->Flask->flask_ckeditor) (1.1.1)\n",
      "Note: you may need to restart the kernel to use updated packages.\n"
     ]
    }
   ],
   "source": [
    "pip install flask_ckeditor"
   ]
  },
  {
   "cell_type": "code",
   "execution_count": 3,
   "metadata": {},
   "outputs": [
    {
     "data": {
      "text/plain": [
       "<sqlite3.Cursor at 0x27773bf6e30>"
      ]
     },
     "execution_count": 3,
     "metadata": {},
     "output_type": "execute_result"
    }
   ],
   "source": [
    "conn = sqlite3.connect(\"./sample_db.sqlite\")\n",
    "cursor = conn.cursor()\n",
    "query = \"\"\"CREATE TABLE IF NOT EXISTS post(\n",
    "         id  integer PRIMARY KEY,\n",
    "         title text,\n",
    "         hash_code text,\n",
    "         publish_time date\n",
    "         text text);\"\"\"\n",
    "cursor.execute(query)\n",
    "# rows = cursor.fetchall()\n",
    "# print(cursor.description\n"
   ]
  },
  {
   "cell_type": "code",
   "execution_count": 6,
   "metadata": {},
   "outputs": [
    {
     "data": {
      "text/plain": [
       "<sqlite3.Cursor at 0x27773bf6e30>"
      ]
     },
     "execution_count": 6,
     "metadata": {},
     "output_type": "execute_result"
    }
   ],
   "source": [
    "query = \"\"\"DROP TABLE post;\"\"\"\n",
    "cursor.execute(query)\n"
   ]
  },
  {
   "cell_type": "code",
   "execution_count": null,
   "metadata": {},
   "outputs": [],
   "source": []
  }
 ],
 "metadata": {
  "kernelspec": {
   "display_name": "Python 3",
   "language": "python",
   "name": "python3"
  },
  "language_info": {
   "codemirror_mode": {
    "name": "ipython",
    "version": 3
   },
   "file_extension": ".py",
   "mimetype": "text/x-python",
   "name": "python",
   "nbconvert_exporter": "python",
   "pygments_lexer": "ipython3",
   "version": "3.7.3"
  }
 },
 "nbformat": 4,
 "nbformat_minor": 2
}
