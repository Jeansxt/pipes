{
 "cells": [
  {
   "cell_type": "code",
   "execution_count": 2,
   "metadata": {},
   "outputs": [
    {
     "name": "stdout",
     "output_type": "stream",
     "text": [
      "Collecting sqlite3\n",
      "Note: you may need to restart the kernel to use updated packages.\n"
     ]
    },
    {
     "name": "stderr",
     "output_type": "stream",
     "text": [
      "  ERROR: Could not find a version that satisfies the requirement sqlite3 (from versions: none)\n",
      "ERROR: No matching distribution found for sqlite3\n"
     ]
    }
   ],
   "source": [
    "pip install sqllite3\n"
   ]
  },
  {
   "cell_type": "code",
   "execution_count": 6,
   "metadata": {},
   "outputs": [
    {
     "data": {
      "text/plain": [
       "<sqlite3.Connection at 0x1c3a7fe5730>"
      ]
     },
     "execution_count": 6,
     "metadata": {},
     "output_type": "execute_result"
    }
   ],
   "source": [
    "import sqlite3\n",
    "\n",
    "sqlite3.connect(\"./pipes_backend.db\")"
   ]
  },
  {
   "cell_type": "code",
   "execution_count": 8,
   "metadata": {},
   "outputs": [
    {
     "data": {
      "text/plain": [
       "array([ 0,  1,  2,  3,  4,  5,  6,  7,  8,  9, 10, 11, 12, 13, 14, 15, 16,\n",
       "       17, 18, 19])"
      ]
     },
     "execution_count": 8,
     "metadata": {},
     "output_type": "execute_result"
    }
   ],
   "source": [
    "import numpy as np\n",
    "np.arange(20)"
   ]
  },
  {
   "cell_type": "code",
   "execution_count": 18,
   "metadata": {
    "scrolled": true
   },
   "outputs": [],
   "source": [
    "import pandas as pd\n",
    "import numpy as np\n",
    "from sqlalchemy import create_engine\n",
    "import sqlite3\n",
    "sqlite3.connect(\"./sample_db.sqlite\")\n",
    "frame = pd.DataFrame(pd.read_excel(\"db_test.xlsx\"),\n",
    "                     columns=['id','hash_code', 'publish_time', 'unit', 'title', 'provinces','cities','doc_type','url','score','resume','keywords','content','is_checked'])\n",
    "engine= create_engine('sqlite:///sample_db.sqlite')\n",
    "frame.to_sql('post', engine)\n",
    "# sqlite3.close()\n"
   ]
  },
  {
   "cell_type": "code",
   "execution_count": 16,
   "metadata": {},
   "outputs": [
    {
     "data": {
      "text/plain": [
       "<sqlite3.Cursor at 0x1bdfbc639d0>"
      ]
     },
     "execution_count": 16,
     "metadata": {},
     "output_type": "execute_result"
    }
   ],
   "source": [
    "conn = sqlite3.connect(\"./sample_db.sqlite\")\n",
    "cursor = conn.cursor()\n",
    "query = \"\"\"CREATE TABLE IF NOT EXISTS post(\n",
    "         id  integer PRIMARY KEY,\n",
    "         title text,\n",
    "         text text);\"\"\"\n",
    "cursor.execute(query)\n",
    "# rows = cursor.fetchall()\n",
    "# print(cursor.description\n"
   ]
  },
  {
   "cell_type": "code",
   "execution_count": 17,
   "metadata": {},
   "outputs": [
    {
     "data": {
      "text/plain": [
       "<sqlite3.Cursor at 0x1bdfbc639d0>"
      ]
     },
     "execution_count": 17,
     "metadata": {},
     "output_type": "execute_result"
    }
   ],
   "source": [
    "query = \"\"\"DROP TABLE post;\"\"\"\n",
    "cursor.execute(query)\n"
   ]
  },
  {
   "cell_type": "code",
   "execution_count": 2,
   "metadata": {},
   "outputs": [
    {
     "name": "stdout",
     "output_type": "stream",
     "text": [
      "    id  hash_code publish_time                    unit  \\\n",
      "0    1        NaN   2016-06-28                     国务院   \n",
      "1    2        NaN   2013-01-01                  国务院办公厅   \n",
      "2    3        NaN   2012-07-07                   国家能源局   \n",
      "3    4        NaN   2017-01-23  国家发展和改革委员会|国家能源局|国土资源部   \n",
      "4    5        NaN   2017-06-07              国家发展和改革委员会   \n",
      "5    6        NaN   2017-06-07              国家发展和改革委员会   \n",
      "6    7        NaN   2012-10-22              国家发展和改革委员会   \n",
      "7    8        NaN   2011-08-16                   中国人大网   \n",
      "8    9        NaN   2016-03-17                     新华社   \n",
      "9   10        NaN   2006-03-14                  国务院办公厅   \n",
      "10  11        NaN   2011-08-22              国家发展和改革委员会   \n",
      "11  12        NaN   2017-06-05        国家发展和改革委员会|国家能源局   \n",
      "12  13        NaN   2012-07-24                   国家能源局   \n",
      "13  14        NaN   2012-03-18              国家发展和改革委员会   \n",
      "14  15        NaN   2017-05-25        国家发展改革委创新和高技术发展司   \n",
      "\n",
      "                                   title provinces cities       doc_type  \\\n",
      "0   国务院关于印发节能与新能源汽车产业发展规划(2012-2020年)的通知        国家     国家     7|12|24|31   \n",
      "1                            能源发展“十二五”规划        国家     国家       39|41|78   \n",
      "2                         太阳能发电发展“十二五”规划        国家     国家       19|37|59   \n",
      "3                         地热能开发利用“十三五”规划        国家     国家     5|27|60|68   \n",
      "4                            石油发展“十三五”规划        国家     国家       33|57|69   \n",
      "5                           天然气发展“十三五”规划        国家     国家     6|19|35|72   \n",
      "6                           天然气发展“十二五”规划        国家     国家     8|20|36|59   \n",
      "7             中华人民共和国国民经济和社会发展第十二个五年规划纲要        国家     国家     7|20|38|73   \n",
      "8             中华人民共和国国民经济和社会发展第十三个五年规划纲要        国家     国家  9|22|40|56|75   \n",
      "9             中华人民共和国国民经济和社会发展第十一个五年规划纲要        国家     国家       11|21|56   \n",
      "10                        可再生能源发展“十一五”规划        国家     国家    12|37|55|74   \n",
      "11                           电力发展“十三五”规划        国家     国家    13|28|40|54   \n",
      "12                         生物质能发展“十二五”规划        国家     国家       14|27|53   \n",
      "13                         煤炭工业发展“十二五”规划        国家     国家     6|24|44|51   \n",
      "14                  “十二五”期间中国新能源汽车产业发展回顾        国家     国家     8|33|41|59   \n",
      "\n",
      "                                                  url  score  resume  \\\n",
      "0   http://www.gov.cn/zwgk/2012-07/09/content_2179...      1     NaN   \n",
      "1   http://www.gov.cn/zwgk/2013-01/23/content_2318...      1     NaN   \n",
      "2   http://zfxxgk.nea.gov.cn/auto87/201209/P020120...      1     NaN   \n",
      "3   http://www.gov.cn/xinwen/2017-02/06/5165321/fi...      1     NaN   \n",
      "4   https://www.ndrc.gov.cn/fggz/fzzlgh/gjjzxgh/20...      1     NaN   \n",
      "5   https://www.ndrc.gov.cn/fggz/fzzlgh/gjjzxgh/20...      1     NaN   \n",
      "6   https://www.ndrc.gov.cn/xxgk/zcfb/tz/201211/t2...      1     NaN   \n",
      "7        http://www.gov.cn/2011lh/content_1825838.htm      1     NaN   \n",
      "8   http://www.gov.cn/xinwen/2016-03/17/content_50...      1     NaN   \n",
      "9   http://www.gov.cn/gongbao/content/2006/content...      1     NaN   \n",
      "10  http://jiuban.moa.gov.cn/zwllm/zcfg/flfg/20080...      1     NaN   \n",
      "11  https://www.ndrc.gov.cn/fggz/fzzlgh/gjjzxgh/20...      1     NaN   \n",
      "12  http://www.gov.cn/zwgk/2012-12/28/content_2301...      1     NaN   \n",
      "13  http://www.gov.cn/zwgk/2012-03/22/content_2097...      1     NaN   \n",
      "14            http://www.sic.gov.cn/News/459/8057.htm      1     NaN   \n",
      "\n",
      "    keywords                                     content  is_checked  \n",
      "0        NaN  < a href=\"https://www.baidu.com\"> 原文 </ a>         NaN  \n",
      "1        NaN                                         NaN         NaN  \n",
      "2        NaN                                         NaN         NaN  \n",
      "3        NaN                                         NaN         NaN  \n",
      "4        NaN                                         NaN         NaN  \n",
      "5        NaN                                         NaN         NaN  \n",
      "6        NaN                                         NaN         NaN  \n",
      "7        NaN                                         NaN         NaN  \n",
      "8        NaN                                         NaN         NaN  \n",
      "9        NaN                                         NaN         NaN  \n",
      "10       NaN                                         NaN         NaN  \n",
      "11       NaN                                         NaN         NaN  \n",
      "12       NaN                                         NaN         NaN  \n",
      "13       NaN                                         NaN         NaN  \n",
      "14       NaN                                         NaN         NaN  \n"
     ]
    }
   ],
   "source": [
    "import pandas as pd\n",
    "frame = pd.DataFrame(pd.read_excel(\"db_test.xlsx\"),\n",
    "                     columns=['id','hash_code', 'publish_time', 'unit', 'title', 'provinces','cities','doc_type','url','score','resume','keywords','content','is_checked'])\n",
    "print(frame)"
   ]
  },
  {
   "cell_type": "code",
   "execution_count": 11,
   "metadata": {},
   "outputs": [
    {
     "name": "stdout",
     "output_type": "stream",
     "text": [
      "Collecting flask_ckeditor\n",
      "  Downloading https://files.pythonhosted.org/packages/fa/b6/166a3e196351fa9fd291d511586015832da1eeec93ab2aad6fb4be3894a9/Flask_CKEditor-0.4.3-py2.py3-none-any.whl (4.9MB)\n",
      "Requirement already satisfied: Flask in d:\\anaconda\\ana\\lib\\site-packages (from flask_ckeditor) (1.1.1)\n",
      "Requirement already satisfied: Werkzeug>=0.15 in d:\\anaconda\\ana\\lib\\site-packages (from Flask->flask_ckeditor) (0.15.4)\n",
      "Requirement already satisfied: itsdangerous>=0.24 in d:\\anaconda\\ana\\lib\\site-packages (from Flask->flask_ckeditor) (1.1.0)\n",
      "Requirement already satisfied: Jinja2>=2.10.1 in d:\\anaconda\\ana\\lib\\site-packages (from Flask->flask_ckeditor) (2.10.1)\n",
      "Requirement already satisfied: click>=5.1 in d:\\anaconda\\ana\\lib\\site-packages (from Flask->flask_ckeditor) (7.0)\n",
      "Requirement already satisfied: MarkupSafe>=0.23 in d:\\anaconda\\ana\\lib\\site-packages (from Jinja2>=2.10.1->Flask->flask_ckeditor) (1.1.1)\n",
      "Installing collected packages: flask-ckeditor\n",
      "Successfully installed flask-ckeditor-0.4.3\n",
      "Note: you may need to restart the kernel to use updated packages.\n"
     ]
    }
   ],
   "source": [
    "pip install flask_ckeditor"
   ]
  },
  {
   "cell_type": "code",
   "execution_count": null,
   "metadata": {},
   "outputs": [],
   "source": []
  }
 ],
 "metadata": {
  "kernelspec": {
   "display_name": "Python 3",
   "language": "python",
   "name": "python3"
  },
  "language_info": {
   "codemirror_mode": {
    "name": "ipython",
    "version": 3
   },
   "file_extension": ".py",
   "mimetype": "text/x-python",
   "name": "python",
   "nbconvert_exporter": "python",
   "pygments_lexer": "ipython3",
   "version": "3.7.3"
  }
 },
 "nbformat": 4,
 "nbformat_minor": 2
}
